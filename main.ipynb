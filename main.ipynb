{
 "cells": [
  {
   "cell_type": "markdown",
   "metadata": {},
   "source": [
    "Project FILIÈRE RECHERCHE\n",
    "\n",
    "Under the supervision of :\n",
    "\n",
    "Elisabeth Lahalle\n",
    "\n",
    "Students :\n",
    "\n",
    "- Ricardo Chiquetto do Lago\n",
    "- Maxsuel Fernandes de Almeida\n",
    "- Samara Ndiaye\n",
    "- Ana Cecilia Reghini\n",
    "- Lucas Tramonte"
   ]
  },
  {
   "cell_type": "markdown",
   "metadata": {},
   "source": [
    "# Libraries"
   ]
  },
  {
   "cell_type": "code",
   "execution_count": 1,
   "metadata": {},
   "outputs": [],
   "source": [
    "import numpy as np\n",
    "import pandas as pd\n",
    "import matplotlib.pyplot as plt\n",
    "import scipy.stats as st\n",
    "import statsmodels.api as sm"
   ]
  },
  {
   "cell_type": "markdown",
   "metadata": {},
   "source": [
    "# Data"
   ]
  },
  {
   "cell_type": "code",
   "execution_count": 2,
   "metadata": {},
   "outputs": [],
   "source": [
    "data = pd.read_csv(\"Assets//Data//2015_months_DebitDoseA.csv\")"
   ]
  },
  {
   "cell_type": "code",
   "execution_count": 3,
   "metadata": {},
   "outputs": [
    {
     "data": {
      "text/html": [
       "<div>\n",
       "<style scoped>\n",
       "    .dataframe tbody tr th:only-of-type {\n",
       "        vertical-align: middle;\n",
       "    }\n",
       "\n",
       "    .dataframe tbody tr th {\n",
       "        vertical-align: top;\n",
       "    }\n",
       "\n",
       "    .dataframe thead th {\n",
       "        text-align: right;\n",
       "    }\n",
       "</style>\n",
       "<table border=\"1\" class=\"dataframe\">\n",
       "  <thead>\n",
       "    <tr style=\"text-align: right;\">\n",
       "      <th></th>\n",
       "      <th>24/02/2015 11:20</th>\n",
       "      <th>30/04/2015 13:10</th>\n",
       "      <th>22/06/2015 07:31</th>\n",
       "      <th>20/10/2015 09:18</th>\n",
       "    </tr>\n",
       "  </thead>\n",
       "  <tbody>\n",
       "    <tr>\n",
       "      <th>0</th>\n",
       "      <td>92.8536</td>\n",
       "      <td>96.38690</td>\n",
       "      <td>96.98370</td>\n",
       "      <td>104.8191</td>\n",
       "    </tr>\n",
       "    <tr>\n",
       "      <th>1</th>\n",
       "      <td>91.8084</td>\n",
       "      <td>95.68260</td>\n",
       "      <td>96.33440</td>\n",
       "      <td>103.6979</td>\n",
       "    </tr>\n",
       "    <tr>\n",
       "      <th>2</th>\n",
       "      <td>93.3221</td>\n",
       "      <td>97.17039</td>\n",
       "      <td>96.67419</td>\n",
       "      <td>104.6446</td>\n",
       "    </tr>\n",
       "    <tr>\n",
       "      <th>3</th>\n",
       "      <td>91.7464</td>\n",
       "      <td>97.41650</td>\n",
       "      <td>97.40680</td>\n",
       "      <td>104.3136</td>\n",
       "    </tr>\n",
       "    <tr>\n",
       "      <th>4</th>\n",
       "      <td>93.4146</td>\n",
       "      <td>97.39280</td>\n",
       "      <td>97.60400</td>\n",
       "      <td>104.5342</td>\n",
       "    </tr>\n",
       "    <tr>\n",
       "      <th>...</th>\n",
       "      <td>...</td>\n",
       "      <td>...</td>\n",
       "      <td>...</td>\n",
       "      <td>...</td>\n",
       "    </tr>\n",
       "    <tr>\n",
       "      <th>40314</th>\n",
       "      <td>103.1037</td>\n",
       "      <td>97.12400</td>\n",
       "      <td>101.08090</td>\n",
       "      <td>97.3781</td>\n",
       "    </tr>\n",
       "    <tr>\n",
       "      <th>40315</th>\n",
       "      <td>102.4074</td>\n",
       "      <td>98.34760</td>\n",
       "      <td>100.19280</td>\n",
       "      <td>98.0843</td>\n",
       "    </tr>\n",
       "    <tr>\n",
       "      <th>40316</th>\n",
       "      <td>103.0529</td>\n",
       "      <td>98.91140</td>\n",
       "      <td>101.56070</td>\n",
       "      <td>99.6903</td>\n",
       "    </tr>\n",
       "    <tr>\n",
       "      <th>40317</th>\n",
       "      <td>102.9746</td>\n",
       "      <td>98.82339</td>\n",
       "      <td>101.22470</td>\n",
       "      <td>100.9240</td>\n",
       "    </tr>\n",
       "    <tr>\n",
       "      <th>40318</th>\n",
       "      <td>102.8289</td>\n",
       "      <td>98.77700</td>\n",
       "      <td>101.90270</td>\n",
       "      <td>102.7918</td>\n",
       "    </tr>\n",
       "  </tbody>\n",
       "</table>\n",
       "<p>40319 rows × 4 columns</p>\n",
       "</div>"
      ],
      "text/plain": [
       "       24/02/2015 11:20  30/04/2015 13:10  22/06/2015 07:31  20/10/2015 09:18\n",
       "0               92.8536          96.38690          96.98370          104.8191\n",
       "1               91.8084          95.68260          96.33440          103.6979\n",
       "2               93.3221          97.17039          96.67419          104.6446\n",
       "3               91.7464          97.41650          97.40680          104.3136\n",
       "4               93.4146          97.39280          97.60400          104.5342\n",
       "...                 ...               ...               ...               ...\n",
       "40314          103.1037          97.12400         101.08090           97.3781\n",
       "40315          102.4074          98.34760         100.19280           98.0843\n",
       "40316          103.0529          98.91140         101.56070           99.6903\n",
       "40317          102.9746          98.82339         101.22470          100.9240\n",
       "40318          102.8289          98.77700         101.90270          102.7918\n",
       "\n",
       "[40319 rows x 4 columns]"
      ]
     },
     "execution_count": 3,
     "metadata": {},
     "output_type": "execute_result"
    }
   ],
   "source": [
    "data"
   ]
  }
 ],
 "metadata": {
  "kernelspec": {
   "display_name": "base",
   "language": "python",
   "name": "python3"
  },
  "language_info": {
   "codemirror_mode": {
    "name": "ipython",
    "version": 3
   },
   "file_extension": ".py",
   "mimetype": "text/x-python",
   "name": "python",
   "nbconvert_exporter": "python",
   "pygments_lexer": "ipython3",
   "version": "3.11.7"
  }
 },
 "nbformat": 4,
 "nbformat_minor": 2
}
