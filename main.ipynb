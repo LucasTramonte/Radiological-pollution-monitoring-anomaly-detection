{
 "cells": [
  {
   "cell_type": "markdown",
   "metadata": {},
   "source": [
    "Project FILIÈRE RECHERCHE\n",
    "\n",
    "Under the supervision of :\n",
    "\n",
    "Elisabeth Lahalle\n",
    "\n",
    "Students :\n",
    "\n",
    "- Ricardo Chiquetto do Lago\n",
    "- Maxsuel Fernandes de Almeida\n",
    "- Samara Ndiaye\n",
    "- Ana Cecilia Reghini\n",
    "- Lucas Tramonte"
   ]
  },
  {
   "cell_type": "markdown",
   "metadata": {},
   "source": [
    "# Libraries"
   ]
  },
  {
   "cell_type": "code",
   "execution_count": 2,
   "metadata": {},
   "outputs": [
    {
     "ename": "ModuleNotFoundError",
     "evalue": "No module named 'pandas'",
     "output_type": "error",
     "traceback": [
      "\u001b[1;31m---------------------------------------------------------------------------\u001b[0m",
      "\u001b[1;31mModuleNotFoundError\u001b[0m                       Traceback (most recent call last)",
      "Cell \u001b[1;32mIn[2], line 2\u001b[0m\n\u001b[0;32m      1\u001b[0m \u001b[38;5;28;01mimport\u001b[39;00m \u001b[38;5;21;01mnumpy\u001b[39;00m \u001b[38;5;28;01mas\u001b[39;00m \u001b[38;5;21;01mnp\u001b[39;00m\n\u001b[1;32m----> 2\u001b[0m \u001b[38;5;28;01mimport\u001b[39;00m \u001b[38;5;21;01mpandas\u001b[39;00m \u001b[38;5;28;01mas\u001b[39;00m \u001b[38;5;21;01mpd\u001b[39;00m\n\u001b[0;32m      3\u001b[0m \u001b[38;5;28;01mimport\u001b[39;00m \u001b[38;5;21;01mmatplotlib\u001b[39;00m\u001b[38;5;21;01m.\u001b[39;00m\u001b[38;5;21;01mpyplot\u001b[39;00m \u001b[38;5;28;01mas\u001b[39;00m \u001b[38;5;21;01mplt\u001b[39;00m\n\u001b[0;32m      4\u001b[0m \u001b[38;5;28;01mimport\u001b[39;00m \u001b[38;5;21;01mscipy\u001b[39;00m\u001b[38;5;21;01m.\u001b[39;00m\u001b[38;5;21;01mstats\u001b[39;00m \u001b[38;5;28;01mas\u001b[39;00m \u001b[38;5;21;01mst\u001b[39;00m\n",
      "\u001b[1;31mModuleNotFoundError\u001b[0m: No module named 'pandas'"
     ]
    }
   ],
   "source": [
    "import numpy as np\n",
    "import pandas as pd\n",
    "import matplotlib.pyplot as plt\n",
    "import scipy.stats as st\n",
    "import statsmodels.api as sm"
   ]
  },
  {
   "cell_type": "markdown",
   "metadata": {},
   "source": [
    "# Data"
   ]
  },
  {
   "cell_type": "code",
   "execution_count": 7,
   "metadata": {},
   "outputs": [],
   "source": [
    "data_gamma_irradiation = pd.read_csv(\"Assets/Data/2015_months_DebitDoseA.csv\")\n",
    "data_hygometry = pd.read_csv(\"Assets/Data/2015_months_HYGR.csv\")\n",
    "data_patm = pd.read_csv(\"Assets/Data//2015_months_PATM.csv\")\n",
    "data_temp = pd.read_csv(\"Assets//Data//2015_months_TEMP.csv\")"
   ]
  },
  {
   "cell_type": "code",
   "execution_count": 8,
   "metadata": {},
   "outputs": [
    {
     "data": {
      "text/html": [
       "<div>\n",
       "<style scoped>\n",
       "    .dataframe tbody tr th:only-of-type {\n",
       "        vertical-align: middle;\n",
       "    }\n",
       "\n",
       "    .dataframe tbody tr th {\n",
       "        vertical-align: top;\n",
       "    }\n",
       "\n",
       "    .dataframe thead th {\n",
       "        text-align: right;\n",
       "    }\n",
       "</style>\n",
       "<table border=\"1\" class=\"dataframe\">\n",
       "  <thead>\n",
       "    <tr style=\"text-align: right;\">\n",
       "      <th></th>\n",
       "      <th>24/02/2015 11:20</th>\n",
       "      <th>30/04/2015 13:10</th>\n",
       "      <th>22/06/2015 07:31</th>\n",
       "      <th>20/10/2015 09:18</th>\n",
       "    </tr>\n",
       "  </thead>\n",
       "  <tbody>\n",
       "    <tr>\n",
       "      <th>0</th>\n",
       "      <td>92.8536</td>\n",
       "      <td>96.38690</td>\n",
       "      <td>96.98370</td>\n",
       "      <td>104.8191</td>\n",
       "    </tr>\n",
       "    <tr>\n",
       "      <th>1</th>\n",
       "      <td>91.8084</td>\n",
       "      <td>95.68260</td>\n",
       "      <td>96.33440</td>\n",
       "      <td>103.6979</td>\n",
       "    </tr>\n",
       "    <tr>\n",
       "      <th>2</th>\n",
       "      <td>93.3221</td>\n",
       "      <td>97.17039</td>\n",
       "      <td>96.67419</td>\n",
       "      <td>104.6446</td>\n",
       "    </tr>\n",
       "    <tr>\n",
       "      <th>3</th>\n",
       "      <td>91.7464</td>\n",
       "      <td>97.41650</td>\n",
       "      <td>97.40680</td>\n",
       "      <td>104.3136</td>\n",
       "    </tr>\n",
       "    <tr>\n",
       "      <th>4</th>\n",
       "      <td>93.4146</td>\n",
       "      <td>97.39280</td>\n",
       "      <td>97.60400</td>\n",
       "      <td>104.5342</td>\n",
       "    </tr>\n",
       "    <tr>\n",
       "      <th>...</th>\n",
       "      <td>...</td>\n",
       "      <td>...</td>\n",
       "      <td>...</td>\n",
       "      <td>...</td>\n",
       "    </tr>\n",
       "    <tr>\n",
       "      <th>40314</th>\n",
       "      <td>103.1037</td>\n",
       "      <td>97.12400</td>\n",
       "      <td>101.08090</td>\n",
       "      <td>97.3781</td>\n",
       "    </tr>\n",
       "    <tr>\n",
       "      <th>40315</th>\n",
       "      <td>102.4074</td>\n",
       "      <td>98.34760</td>\n",
       "      <td>100.19280</td>\n",
       "      <td>98.0843</td>\n",
       "    </tr>\n",
       "    <tr>\n",
       "      <th>40316</th>\n",
       "      <td>103.0529</td>\n",
       "      <td>98.91140</td>\n",
       "      <td>101.56070</td>\n",
       "      <td>99.6903</td>\n",
       "    </tr>\n",
       "    <tr>\n",
       "      <th>40317</th>\n",
       "      <td>102.9746</td>\n",
       "      <td>98.82339</td>\n",
       "      <td>101.22470</td>\n",
       "      <td>100.9240</td>\n",
       "    </tr>\n",
       "    <tr>\n",
       "      <th>40318</th>\n",
       "      <td>102.8289</td>\n",
       "      <td>98.77700</td>\n",
       "      <td>101.90270</td>\n",
       "      <td>102.7918</td>\n",
       "    </tr>\n",
       "  </tbody>\n",
       "</table>\n",
       "<p>40319 rows × 4 columns</p>\n",
       "</div>"
      ],
      "text/plain": [
       "       24/02/2015 11:20  30/04/2015 13:10  22/06/2015 07:31  20/10/2015 09:18\n",
       "0               92.8536          96.38690          96.98370          104.8191\n",
       "1               91.8084          95.68260          96.33440          103.6979\n",
       "2               93.3221          97.17039          96.67419          104.6446\n",
       "3               91.7464          97.41650          97.40680          104.3136\n",
       "4               93.4146          97.39280          97.60400          104.5342\n",
       "...                 ...               ...               ...               ...\n",
       "40314          103.1037          97.12400         101.08090           97.3781\n",
       "40315          102.4074          98.34760         100.19280           98.0843\n",
       "40316          103.0529          98.91140         101.56070           99.6903\n",
       "40317          102.9746          98.82339         101.22470          100.9240\n",
       "40318          102.8289          98.77700         101.90270          102.7918\n",
       "\n",
       "[40319 rows x 4 columns]"
      ]
     },
     "execution_count": 8,
     "metadata": {},
     "output_type": "execute_result"
    }
   ],
   "source": [
    "data_gamma_irradiation"
   ]
  },
  {
   "cell_type": "markdown",
   "metadata": {},
   "source": [
    "# Data Visualization"
   ]
  },
  {
   "cell_type": "code",
   "execution_count": 1,
   "metadata": {},
   "outputs": [
    {
     "ename": "NameError",
     "evalue": "name 'data_gamma_irradiation' is not defined",
     "output_type": "error",
     "traceback": [
      "\u001b[1;31m---------------------------------------------------------------------------\u001b[0m",
      "\u001b[1;31mNameError\u001b[0m                                 Traceback (most recent call last)",
      "Cell \u001b[1;32mIn[1], line 5\u001b[0m\n\u001b[0;32m      2\u001b[0m month \u001b[38;5;241m=\u001b[39m \u001b[38;5;241m3\u001b[39m  \u001b[38;5;66;03m# selected month: June\u001b[39;00m\n\u001b[0;32m      4\u001b[0m \u001b[38;5;66;03m# Extract data for the selected month\u001b[39;00m\n\u001b[1;32m----> 5\u001b[0m sigg \u001b[38;5;241m=\u001b[39m \u001b[43mdata_gamma_irradiation\u001b[49m\u001b[38;5;241m.\u001b[39miloc[:, month\u001b[38;5;241m-\u001b[39m\u001b[38;5;241m1\u001b[39m]  \u001b[38;5;66;03m# Gamma irradiation data\u001b[39;00m\n\u001b[0;32m      6\u001b[0m sigt \u001b[38;5;241m=\u001b[39m data_temp\u001b[38;5;241m.\u001b[39miloc[:, month\u001b[38;5;241m-\u001b[39m\u001b[38;5;241m1\u001b[39m]               \u001b[38;5;66;03m# Temperature data\u001b[39;00m\n\u001b[0;32m      7\u001b[0m sigh \u001b[38;5;241m=\u001b[39m data_hygometry\u001b[38;5;241m.\u001b[39miloc[:, month\u001b[38;5;241m-\u001b[39m\u001b[38;5;241m1\u001b[39m]          \u001b[38;5;66;03m# Hygrometry data\u001b[39;00m\n",
      "\u001b[1;31mNameError\u001b[0m: name 'data_gamma_irradiation' is not defined"
     ]
    }
   ],
   "source": [
    "# Define the month (1: February, 2: April, 3: June, 4: October)\n",
    "month = 3  # selected month: June\n",
    "\n",
    "# Extract data for the selected month\n",
    "sigg = data_gamma_irradiation.iloc[:, month-1]  # Gamma irradiation data\n",
    "sigt = data_temp.iloc[:, month-1]               # Temperature data\n",
    "sigh = data_hygometry.iloc[:, month-1]          # Hygrometry data\n",
    "sigp = data_patm.iloc[:, month-1]               # Atmospheric pressure data\n",
    "\n",
    "# Remove the first and last hour of data\n",
    "N = len(sigg)  # number of data points\n",
    "fe = 1/60      # sampling frequency\n",
    "t = list(range(N))  # time vector\n",
    "\n",
    "Nh = 60  # 1 hour\n",
    "t_trimmed = t[Nh:N-Nh]\n",
    "\n",
    "# Plot the data\n",
    "plt.figure(figsize=(12, 6))\n",
    "plt.plot(t_trimmed, sigg[Nh:N-Nh], label='Gamma Irradiation')\n",
    "plt.plot(t_trimmed, sigt[Nh:N-Nh], label='Temperature')\n",
    "plt.plot(t_trimmed, sigh[Nh:N-Nh], label='Hygrometry')\n",
    "plt.plot(t_trimmed, sigp[Nh:N-Nh] - 800, label='Pressure - 800')\n",
    "\n",
    "plt.xlabel('Time (min)')\n",
    "plt.title('Data')\n",
    "plt.legend()\n",
    "plt.show()\n"
   ]
  },
  {
   "cell_type": "markdown",
   "metadata": {},
   "source": [
    "# LSTMs"
   ]
  },
  {
   "cell_type": "code",
   "execution_count": null,
   "metadata": {},
   "outputs": [],
   "source": []
  }
 ],
 "metadata": {
  "kernelspec": {
   "display_name": "base",
   "language": "python",
   "name": "python3"
  },
  "language_info": {
   "codemirror_mode": {
    "name": "ipython",
    "version": 3
   },
   "file_extension": ".py",
   "mimetype": "text/x-python",
   "name": "python",
   "nbconvert_exporter": "python",
   "pygments_lexer": "ipython3",
   "version": "3.11.9"
  }
 },
 "nbformat": 4,
 "nbformat_minor": 2
}
